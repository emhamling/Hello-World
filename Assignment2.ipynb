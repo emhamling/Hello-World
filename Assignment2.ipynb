{
  "cells": [
    {
      "cell_type": "markdown",
      "metadata": {
        "id": "view-in-github",
        "colab_type": "text"
      },
      "source": [
        "<a href=\"https://colab.research.google.com/github/emhamling/Hello-World/blob/main/Assignment2.ipynb\" target=\"_parent\"><img src=\"https://colab.research.google.com/assets/colab-badge.svg\" alt=\"Open In Colab\"/></a>"
      ]
    },
    {
      "cell_type": "code",
      "execution_count": 6,
      "id": "fc1b1afd-3237-4c31-9d7e-d206c8a70947",
      "metadata": {
        "id": "fc1b1afd-3237-4c31-9d7e-d206c8a70947"
      },
      "outputs": [],
      "source": [
        "#"
      ]
    },
    {
      "cell_type": "code",
      "execution_count": null,
      "id": "bb903ef5-4612-4e37-aea1-a5e04fea38d5",
      "metadata": {
        "id": "bb903ef5-4612-4e37-aea1-a5e04fea38d5"
      },
      "outputs": [],
      "source": [
        "import pandas as pd\n",
        "import matplotlib.pyplot as plt"
      ]
    },
    {
      "cell_type": "markdown",
      "id": "60ebbbaa-6df8-49a5-88b3-ccfce5b43778",
      "metadata": {
        "id": "60ebbbaa-6df8-49a5-88b3-ccfce5b43778"
      },
      "source": [
        "# Function 0: `load_data()`\n",
        "\n",
        "This function loads the data file stations.csv as a DataFrame using Pandas, performs some data cleansing and returns the DataFrame. Exclude rows with LNG and HY fuel types, missing (NAN) year, and year 2022. Note that that this function should process the original data file as provided here and all data processing should happen inside this function\n"
      ]
    },
    {
      "cell_type": "code",
      "execution_count": 7,
      "id": "6ef42ebf-13e4-49d9-b3b8-20e0319b6624",
      "metadata": {
        "id": "6ef42ebf-13e4-49d9-b3b8-20e0319b6624"
      },
      "outputs": [],
      "source": [
        "# Define load_data() below:\n",
        "\n",
        "def load_data():\n",
        "    df = pd.read_csv(\"stations.csv\")\n",
        "    df = df[(df['Fuel Type Code'] != 'LNG') & (df['Fuel Type Code'] != 'HY')]\n",
        "    df = df.dropna(subset=['Year'])\n",
        "    df = df[df['Year'] != 2022]\n",
        "    return df\n",
        "df = load_data()"
      ]
    },
    {
      "cell_type": "code",
      "execution_count": 8,
      "id": "fb57f94d-2ca0-41b5-9f4f-a5880d5aca6a",
      "metadata": {
        "id": "fb57f94d-2ca0-41b5-9f4f-a5880d5aca6a",
        "colab": {
          "base_uri": "https://localhost:8080/",
          "height": 912
        },
        "outputId": "c402cf0e-bbad-48c8-b385-abe1b6d06113"
      },
      "outputs": [
        {
          "output_type": "execute_result",
          "data": {
            "text/plain": [
              "      Fuel Type Code                                       Station Name  \\\n",
              "0                CNG               Spire - Montgomery Operations Center   \n",
              "1                CNG                                PS Energy - Atlanta   \n",
              "2                CNG       Metropolitan Atlanta Rapid Transit Authority   \n",
              "3                CNG                              United Parcel Service   \n",
              "4                CNG                         Arkansas Oklahoma Gas Corp   \n",
              "...              ...                                                ...   \n",
              "70065           ELEC                     Bank of America - Private Bank   \n",
              "70170           ELEC                  Elk Grove Unified School District   \n",
              "70171           ELEC  Clean Energy - Los Angeles County Metropolitan...   \n",
              "70172           ELEC                               Avista Coeur d'Alene   \n",
              "70173           ELEC                              ReFuel Salt Lake City   \n",
              "\n",
              "             Street Address  \\\n",
              "0          2951 Chestnut St   \n",
              "1          340 Whitehall St   \n",
              "2       2424 Piedmont Rd NE   \n",
              "3      270 Marvin Miller Dr   \n",
              "4         2100 S Waldron Rd   \n",
              "...                     ...   \n",
              "70065           800 5th Ave   \n",
              "70170        8421 Gerber Rd   \n",
              "70171     450 W Griffith St   \n",
              "70172        1735 N 15th St   \n",
              "70173       250 N Apollo Rd   \n",
              "\n",
              "                                 Intersection Directions            City  \\\n",
              "0                                                    NaN      Montgomery   \n",
              "1      From I-7585 N, exit 91 to Central Ave, left on...         Atlanta   \n",
              "2                                                    NaN         Atlanta   \n",
              "3                                                    NaN         Atlanta   \n",
              "4                                                    NaN      Fort Smith   \n",
              "...                                                  ...             ...   \n",
              "70065                                                NaN         Seattle   \n",
              "70170                                                NaN      Sacramento   \n",
              "70171                                                NaN         Gardena   \n",
              "70172                                                NaN   Coeur d'Alene   \n",
              "70173                                                NaN  Salt Lake City   \n",
              "\n",
              "      State    ZIP Status Code            Groups With Access Code  \\\n",
              "0        AL  36107           E                            Private   \n",
              "1        GA  30303           E     Public - Card key at all times   \n",
              "2        GA  30324           E          Private - Government only   \n",
              "3        GA  30336           E                            Private   \n",
              "4        AR  72903           E  Public - Credit card at all times   \n",
              "...     ...    ...         ...                                ...   \n",
              "70065    WA  98104           E                            Private   \n",
              "70170    CA  95828           E  Public - Credit card at all times   \n",
              "70171    CA  90745           E                             Public   \n",
              "70172    ID  83814           E                            Private   \n",
              "70173    UT  84116           E                             Public   \n",
              "\n",
              "      NG Fill Type Code Geocode Status   Latitude   Longitude      ID  \\\n",
              "0                     B          200-9  32.367916  -86.267021      17   \n",
              "1                     Q          200-8  33.745843  -84.398837      42   \n",
              "2                     Q          200-8  33.821911  -84.367461      45   \n",
              "3                     B          200-9  33.760256  -84.543822      64   \n",
              "4                     Q          200-9  35.362213  -94.375338      73   \n",
              "...                 ...            ...        ...         ...     ...   \n",
              "70065               NaN          200-9  47.605230 -122.330590  223744   \n",
              "70170               NaN          200-8  38.481852 -121.392865  223863   \n",
              "70171               NaN          200-8  33.859264 -118.279901  223864   \n",
              "70172               NaN          200-9  47.692163 -116.765812  223865   \n",
              "70173               NaN          200-9  40.773333 -112.026267  223866   \n",
              "\n",
              "      Owner Type Code   Open Date Country Access Code       Facility Type  \\\n",
              "0                   T  2010-12-01      US     private  STANDALONE_STATION   \n",
              "1                   P  1994-07-15      US      public  STANDALONE_STATION   \n",
              "2                  LG  1996-12-15      US     private        FLEET_GARAGE   \n",
              "3                   P  1997-01-01      US     private  STANDALONE_STATION   \n",
              "4                   T  1997-01-01      US      public             UTILITY   \n",
              "...               ...         ...     ...         ...                 ...   \n",
              "70065               P  2020-08-02      US     private                BANK   \n",
              "70170               P  2019-05-14      US      public              SCHOOL   \n",
              "70171               P  2017-10-13      US      public        FLEET_GARAGE   \n",
              "70172               T  2019-08-13      US     private             UTILITY   \n",
              "70173               P  2020-10-15      US      public  STANDALONE_STATION   \n",
              "\n",
              "         Year  \n",
              "0      2010.0  \n",
              "1      1994.0  \n",
              "2      1996.0  \n",
              "3      1997.0  \n",
              "4      1997.0  \n",
              "...       ...  \n",
              "70065  2020.0  \n",
              "70170  2019.0  \n",
              "70171  2017.0  \n",
              "70172  2019.0  \n",
              "70173  2020.0  \n",
              "\n",
              "[60349 rows x 20 columns]"
            ],
            "text/html": [
              "\n",
              "  <div id=\"df-394d9551-1ba7-49da-a662-7ec0d50792c4\" class=\"colab-df-container\">\n",
              "    <div>\n",
              "<style scoped>\n",
              "    .dataframe tbody tr th:only-of-type {\n",
              "        vertical-align: middle;\n",
              "    }\n",
              "\n",
              "    .dataframe tbody tr th {\n",
              "        vertical-align: top;\n",
              "    }\n",
              "\n",
              "    .dataframe thead th {\n",
              "        text-align: right;\n",
              "    }\n",
              "</style>\n",
              "<table border=\"1\" class=\"dataframe\">\n",
              "  <thead>\n",
              "    <tr style=\"text-align: right;\">\n",
              "      <th></th>\n",
              "      <th>Fuel Type Code</th>\n",
              "      <th>Station Name</th>\n",
              "      <th>Street Address</th>\n",
              "      <th>Intersection Directions</th>\n",
              "      <th>City</th>\n",
              "      <th>State</th>\n",
              "      <th>ZIP</th>\n",
              "      <th>Status Code</th>\n",
              "      <th>Groups With Access Code</th>\n",
              "      <th>NG Fill Type Code</th>\n",
              "      <th>Geocode Status</th>\n",
              "      <th>Latitude</th>\n",
              "      <th>Longitude</th>\n",
              "      <th>ID</th>\n",
              "      <th>Owner Type Code</th>\n",
              "      <th>Open Date</th>\n",
              "      <th>Country</th>\n",
              "      <th>Access Code</th>\n",
              "      <th>Facility Type</th>\n",
              "      <th>Year</th>\n",
              "    </tr>\n",
              "  </thead>\n",
              "  <tbody>\n",
              "    <tr>\n",
              "      <th>0</th>\n",
              "      <td>CNG</td>\n",
              "      <td>Spire - Montgomery Operations Center</td>\n",
              "      <td>2951 Chestnut St</td>\n",
              "      <td>NaN</td>\n",
              "      <td>Montgomery</td>\n",
              "      <td>AL</td>\n",
              "      <td>36107</td>\n",
              "      <td>E</td>\n",
              "      <td>Private</td>\n",
              "      <td>B</td>\n",
              "      <td>200-9</td>\n",
              "      <td>32.367916</td>\n",
              "      <td>-86.267021</td>\n",
              "      <td>17</td>\n",
              "      <td>T</td>\n",
              "      <td>2010-12-01</td>\n",
              "      <td>US</td>\n",
              "      <td>private</td>\n",
              "      <td>STANDALONE_STATION</td>\n",
              "      <td>2010.0</td>\n",
              "    </tr>\n",
              "    <tr>\n",
              "      <th>1</th>\n",
              "      <td>CNG</td>\n",
              "      <td>PS Energy - Atlanta</td>\n",
              "      <td>340 Whitehall St</td>\n",
              "      <td>From I-7585 N, exit 91 to Central Ave, left on...</td>\n",
              "      <td>Atlanta</td>\n",
              "      <td>GA</td>\n",
              "      <td>30303</td>\n",
              "      <td>E</td>\n",
              "      <td>Public - Card key at all times</td>\n",
              "      <td>Q</td>\n",
              "      <td>200-8</td>\n",
              "      <td>33.745843</td>\n",
              "      <td>-84.398837</td>\n",
              "      <td>42</td>\n",
              "      <td>P</td>\n",
              "      <td>1994-07-15</td>\n",
              "      <td>US</td>\n",
              "      <td>public</td>\n",
              "      <td>STANDALONE_STATION</td>\n",
              "      <td>1994.0</td>\n",
              "    </tr>\n",
              "    <tr>\n",
              "      <th>2</th>\n",
              "      <td>CNG</td>\n",
              "      <td>Metropolitan Atlanta Rapid Transit Authority</td>\n",
              "      <td>2424 Piedmont Rd NE</td>\n",
              "      <td>NaN</td>\n",
              "      <td>Atlanta</td>\n",
              "      <td>GA</td>\n",
              "      <td>30324</td>\n",
              "      <td>E</td>\n",
              "      <td>Private - Government only</td>\n",
              "      <td>Q</td>\n",
              "      <td>200-8</td>\n",
              "      <td>33.821911</td>\n",
              "      <td>-84.367461</td>\n",
              "      <td>45</td>\n",
              "      <td>LG</td>\n",
              "      <td>1996-12-15</td>\n",
              "      <td>US</td>\n",
              "      <td>private</td>\n",
              "      <td>FLEET_GARAGE</td>\n",
              "      <td>1996.0</td>\n",
              "    </tr>\n",
              "    <tr>\n",
              "      <th>3</th>\n",
              "      <td>CNG</td>\n",
              "      <td>United Parcel Service</td>\n",
              "      <td>270 Marvin Miller Dr</td>\n",
              "      <td>NaN</td>\n",
              "      <td>Atlanta</td>\n",
              "      <td>GA</td>\n",
              "      <td>30336</td>\n",
              "      <td>E</td>\n",
              "      <td>Private</td>\n",
              "      <td>B</td>\n",
              "      <td>200-9</td>\n",
              "      <td>33.760256</td>\n",
              "      <td>-84.543822</td>\n",
              "      <td>64</td>\n",
              "      <td>P</td>\n",
              "      <td>1997-01-01</td>\n",
              "      <td>US</td>\n",
              "      <td>private</td>\n",
              "      <td>STANDALONE_STATION</td>\n",
              "      <td>1997.0</td>\n",
              "    </tr>\n",
              "    <tr>\n",
              "      <th>4</th>\n",
              "      <td>CNG</td>\n",
              "      <td>Arkansas Oklahoma Gas Corp</td>\n",
              "      <td>2100 S Waldron Rd</td>\n",
              "      <td>NaN</td>\n",
              "      <td>Fort Smith</td>\n",
              "      <td>AR</td>\n",
              "      <td>72903</td>\n",
              "      <td>E</td>\n",
              "      <td>Public - Credit card at all times</td>\n",
              "      <td>Q</td>\n",
              "      <td>200-9</td>\n",
              "      <td>35.362213</td>\n",
              "      <td>-94.375338</td>\n",
              "      <td>73</td>\n",
              "      <td>T</td>\n",
              "      <td>1997-01-01</td>\n",
              "      <td>US</td>\n",
              "      <td>public</td>\n",
              "      <td>UTILITY</td>\n",
              "      <td>1997.0</td>\n",
              "    </tr>\n",
              "    <tr>\n",
              "      <th>...</th>\n",
              "      <td>...</td>\n",
              "      <td>...</td>\n",
              "      <td>...</td>\n",
              "      <td>...</td>\n",
              "      <td>...</td>\n",
              "      <td>...</td>\n",
              "      <td>...</td>\n",
              "      <td>...</td>\n",
              "      <td>...</td>\n",
              "      <td>...</td>\n",
              "      <td>...</td>\n",
              "      <td>...</td>\n",
              "      <td>...</td>\n",
              "      <td>...</td>\n",
              "      <td>...</td>\n",
              "      <td>...</td>\n",
              "      <td>...</td>\n",
              "      <td>...</td>\n",
              "      <td>...</td>\n",
              "      <td>...</td>\n",
              "    </tr>\n",
              "    <tr>\n",
              "      <th>70065</th>\n",
              "      <td>ELEC</td>\n",
              "      <td>Bank of America - Private Bank</td>\n",
              "      <td>800 5th Ave</td>\n",
              "      <td>NaN</td>\n",
              "      <td>Seattle</td>\n",
              "      <td>WA</td>\n",
              "      <td>98104</td>\n",
              "      <td>E</td>\n",
              "      <td>Private</td>\n",
              "      <td>NaN</td>\n",
              "      <td>200-9</td>\n",
              "      <td>47.605230</td>\n",
              "      <td>-122.330590</td>\n",
              "      <td>223744</td>\n",
              "      <td>P</td>\n",
              "      <td>2020-08-02</td>\n",
              "      <td>US</td>\n",
              "      <td>private</td>\n",
              "      <td>BANK</td>\n",
              "      <td>2020.0</td>\n",
              "    </tr>\n",
              "    <tr>\n",
              "      <th>70170</th>\n",
              "      <td>ELEC</td>\n",
              "      <td>Elk Grove Unified School District</td>\n",
              "      <td>8421 Gerber Rd</td>\n",
              "      <td>NaN</td>\n",
              "      <td>Sacramento</td>\n",
              "      <td>CA</td>\n",
              "      <td>95828</td>\n",
              "      <td>E</td>\n",
              "      <td>Public - Credit card at all times</td>\n",
              "      <td>NaN</td>\n",
              "      <td>200-8</td>\n",
              "      <td>38.481852</td>\n",
              "      <td>-121.392865</td>\n",
              "      <td>223863</td>\n",
              "      <td>P</td>\n",
              "      <td>2019-05-14</td>\n",
              "      <td>US</td>\n",
              "      <td>public</td>\n",
              "      <td>SCHOOL</td>\n",
              "      <td>2019.0</td>\n",
              "    </tr>\n",
              "    <tr>\n",
              "      <th>70171</th>\n",
              "      <td>ELEC</td>\n",
              "      <td>Clean Energy - Los Angeles County Metropolitan...</td>\n",
              "      <td>450 W Griffith St</td>\n",
              "      <td>NaN</td>\n",
              "      <td>Gardena</td>\n",
              "      <td>CA</td>\n",
              "      <td>90745</td>\n",
              "      <td>E</td>\n",
              "      <td>Public</td>\n",
              "      <td>NaN</td>\n",
              "      <td>200-8</td>\n",
              "      <td>33.859264</td>\n",
              "      <td>-118.279901</td>\n",
              "      <td>223864</td>\n",
              "      <td>P</td>\n",
              "      <td>2017-10-13</td>\n",
              "      <td>US</td>\n",
              "      <td>public</td>\n",
              "      <td>FLEET_GARAGE</td>\n",
              "      <td>2017.0</td>\n",
              "    </tr>\n",
              "    <tr>\n",
              "      <th>70172</th>\n",
              "      <td>ELEC</td>\n",
              "      <td>Avista Coeur d'Alene</td>\n",
              "      <td>1735 N 15th St</td>\n",
              "      <td>NaN</td>\n",
              "      <td>Coeur d'Alene</td>\n",
              "      <td>ID</td>\n",
              "      <td>83814</td>\n",
              "      <td>E</td>\n",
              "      <td>Private</td>\n",
              "      <td>NaN</td>\n",
              "      <td>200-9</td>\n",
              "      <td>47.692163</td>\n",
              "      <td>-116.765812</td>\n",
              "      <td>223865</td>\n",
              "      <td>T</td>\n",
              "      <td>2019-08-13</td>\n",
              "      <td>US</td>\n",
              "      <td>private</td>\n",
              "      <td>UTILITY</td>\n",
              "      <td>2019.0</td>\n",
              "    </tr>\n",
              "    <tr>\n",
              "      <th>70173</th>\n",
              "      <td>ELEC</td>\n",
              "      <td>ReFuel Salt Lake City</td>\n",
              "      <td>250 N Apollo Rd</td>\n",
              "      <td>NaN</td>\n",
              "      <td>Salt Lake City</td>\n",
              "      <td>UT</td>\n",
              "      <td>84116</td>\n",
              "      <td>E</td>\n",
              "      <td>Public</td>\n",
              "      <td>NaN</td>\n",
              "      <td>200-9</td>\n",
              "      <td>40.773333</td>\n",
              "      <td>-112.026267</td>\n",
              "      <td>223866</td>\n",
              "      <td>P</td>\n",
              "      <td>2020-10-15</td>\n",
              "      <td>US</td>\n",
              "      <td>public</td>\n",
              "      <td>STANDALONE_STATION</td>\n",
              "      <td>2020.0</td>\n",
              "    </tr>\n",
              "  </tbody>\n",
              "</table>\n",
              "<p>60349 rows × 20 columns</p>\n",
              "</div>\n",
              "    <div class=\"colab-df-buttons\">\n",
              "\n",
              "  <div class=\"colab-df-container\">\n",
              "    <button class=\"colab-df-convert\" onclick=\"convertToInteractive('df-394d9551-1ba7-49da-a662-7ec0d50792c4')\"\n",
              "            title=\"Convert this dataframe to an interactive table.\"\n",
              "            style=\"display:none;\">\n",
              "\n",
              "  <svg xmlns=\"http://www.w3.org/2000/svg\" height=\"24px\" viewBox=\"0 -960 960 960\">\n",
              "    <path d=\"M120-120v-720h720v720H120Zm60-500h600v-160H180v160Zm220 220h160v-160H400v160Zm0 220h160v-160H400v160ZM180-400h160v-160H180v160Zm440 0h160v-160H620v160ZM180-180h160v-160H180v160Zm440 0h160v-160H620v160Z\"/>\n",
              "  </svg>\n",
              "    </button>\n",
              "\n",
              "  <style>\n",
              "    .colab-df-container {\n",
              "      display:flex;\n",
              "      gap: 12px;\n",
              "    }\n",
              "\n",
              "    .colab-df-convert {\n",
              "      background-color: #E8F0FE;\n",
              "      border: none;\n",
              "      border-radius: 50%;\n",
              "      cursor: pointer;\n",
              "      display: none;\n",
              "      fill: #1967D2;\n",
              "      height: 32px;\n",
              "      padding: 0 0 0 0;\n",
              "      width: 32px;\n",
              "    }\n",
              "\n",
              "    .colab-df-convert:hover {\n",
              "      background-color: #E2EBFA;\n",
              "      box-shadow: 0px 1px 2px rgba(60, 64, 67, 0.3), 0px 1px 3px 1px rgba(60, 64, 67, 0.15);\n",
              "      fill: #174EA6;\n",
              "    }\n",
              "\n",
              "    .colab-df-buttons div {\n",
              "      margin-bottom: 4px;\n",
              "    }\n",
              "\n",
              "    [theme=dark] .colab-df-convert {\n",
              "      background-color: #3B4455;\n",
              "      fill: #D2E3FC;\n",
              "    }\n",
              "\n",
              "    [theme=dark] .colab-df-convert:hover {\n",
              "      background-color: #434B5C;\n",
              "      box-shadow: 0px 1px 3px 1px rgba(0, 0, 0, 0.15);\n",
              "      filter: drop-shadow(0px 1px 2px rgba(0, 0, 0, 0.3));\n",
              "      fill: #FFFFFF;\n",
              "    }\n",
              "  </style>\n",
              "\n",
              "    <script>\n",
              "      const buttonEl =\n",
              "        document.querySelector('#df-394d9551-1ba7-49da-a662-7ec0d50792c4 button.colab-df-convert');\n",
              "      buttonEl.style.display =\n",
              "        google.colab.kernel.accessAllowed ? 'block' : 'none';\n",
              "\n",
              "      async function convertToInteractive(key) {\n",
              "        const element = document.querySelector('#df-394d9551-1ba7-49da-a662-7ec0d50792c4');\n",
              "        const dataTable =\n",
              "          await google.colab.kernel.invokeFunction('convertToInteractive',\n",
              "                                                    [key], {});\n",
              "        if (!dataTable) return;\n",
              "\n",
              "        const docLinkHtml = 'Like what you see? Visit the ' +\n",
              "          '<a target=\"_blank\" href=https://colab.research.google.com/notebooks/data_table.ipynb>data table notebook</a>'\n",
              "          + ' to learn more about interactive tables.';\n",
              "        element.innerHTML = '';\n",
              "        dataTable['output_type'] = 'display_data';\n",
              "        await google.colab.output.renderOutput(dataTable, element);\n",
              "        const docLink = document.createElement('div');\n",
              "        docLink.innerHTML = docLinkHtml;\n",
              "        element.appendChild(docLink);\n",
              "      }\n",
              "    </script>\n",
              "  </div>\n",
              "\n",
              "\n",
              "<div id=\"df-b3a42ade-e56c-4754-8e54-260e89ba2a61\">\n",
              "  <button class=\"colab-df-quickchart\" onclick=\"quickchart('df-b3a42ade-e56c-4754-8e54-260e89ba2a61')\"\n",
              "            title=\"Suggest charts\"\n",
              "            style=\"display:none;\">\n",
              "\n",
              "<svg xmlns=\"http://www.w3.org/2000/svg\" height=\"24px\"viewBox=\"0 0 24 24\"\n",
              "     width=\"24px\">\n",
              "    <g>\n",
              "        <path d=\"M19 3H5c-1.1 0-2 .9-2 2v14c0 1.1.9 2 2 2h14c1.1 0 2-.9 2-2V5c0-1.1-.9-2-2-2zM9 17H7v-7h2v7zm4 0h-2V7h2v10zm4 0h-2v-4h2v4z\"/>\n",
              "    </g>\n",
              "</svg>\n",
              "  </button>\n",
              "\n",
              "<style>\n",
              "  .colab-df-quickchart {\n",
              "      --bg-color: #E8F0FE;\n",
              "      --fill-color: #1967D2;\n",
              "      --hover-bg-color: #E2EBFA;\n",
              "      --hover-fill-color: #174EA6;\n",
              "      --disabled-fill-color: #AAA;\n",
              "      --disabled-bg-color: #DDD;\n",
              "  }\n",
              "\n",
              "  [theme=dark] .colab-df-quickchart {\n",
              "      --bg-color: #3B4455;\n",
              "      --fill-color: #D2E3FC;\n",
              "      --hover-bg-color: #434B5C;\n",
              "      --hover-fill-color: #FFFFFF;\n",
              "      --disabled-bg-color: #3B4455;\n",
              "      --disabled-fill-color: #666;\n",
              "  }\n",
              "\n",
              "  .colab-df-quickchart {\n",
              "    background-color: var(--bg-color);\n",
              "    border: none;\n",
              "    border-radius: 50%;\n",
              "    cursor: pointer;\n",
              "    display: none;\n",
              "    fill: var(--fill-color);\n",
              "    height: 32px;\n",
              "    padding: 0;\n",
              "    width: 32px;\n",
              "  }\n",
              "\n",
              "  .colab-df-quickchart:hover {\n",
              "    background-color: var(--hover-bg-color);\n",
              "    box-shadow: 0 1px 2px rgba(60, 64, 67, 0.3), 0 1px 3px 1px rgba(60, 64, 67, 0.15);\n",
              "    fill: var(--button-hover-fill-color);\n",
              "  }\n",
              "\n",
              "  .colab-df-quickchart-complete:disabled,\n",
              "  .colab-df-quickchart-complete:disabled:hover {\n",
              "    background-color: var(--disabled-bg-color);\n",
              "    fill: var(--disabled-fill-color);\n",
              "    box-shadow: none;\n",
              "  }\n",
              "\n",
              "  .colab-df-spinner {\n",
              "    border: 2px solid var(--fill-color);\n",
              "    border-color: transparent;\n",
              "    border-bottom-color: var(--fill-color);\n",
              "    animation:\n",
              "      spin 1s steps(1) infinite;\n",
              "  }\n",
              "\n",
              "  @keyframes spin {\n",
              "    0% {\n",
              "      border-color: transparent;\n",
              "      border-bottom-color: var(--fill-color);\n",
              "      border-left-color: var(--fill-color);\n",
              "    }\n",
              "    20% {\n",
              "      border-color: transparent;\n",
              "      border-left-color: var(--fill-color);\n",
              "      border-top-color: var(--fill-color);\n",
              "    }\n",
              "    30% {\n",
              "      border-color: transparent;\n",
              "      border-left-color: var(--fill-color);\n",
              "      border-top-color: var(--fill-color);\n",
              "      border-right-color: var(--fill-color);\n",
              "    }\n",
              "    40% {\n",
              "      border-color: transparent;\n",
              "      border-right-color: var(--fill-color);\n",
              "      border-top-color: var(--fill-color);\n",
              "    }\n",
              "    60% {\n",
              "      border-color: transparent;\n",
              "      border-right-color: var(--fill-color);\n",
              "    }\n",
              "    80% {\n",
              "      border-color: transparent;\n",
              "      border-right-color: var(--fill-color);\n",
              "      border-bottom-color: var(--fill-color);\n",
              "    }\n",
              "    90% {\n",
              "      border-color: transparent;\n",
              "      border-bottom-color: var(--fill-color);\n",
              "    }\n",
              "  }\n",
              "</style>\n",
              "\n",
              "  <script>\n",
              "    async function quickchart(key) {\n",
              "      const quickchartButtonEl =\n",
              "        document.querySelector('#' + key + ' button');\n",
              "      quickchartButtonEl.disabled = true;  // To prevent multiple clicks.\n",
              "      quickchartButtonEl.classList.add('colab-df-spinner');\n",
              "      try {\n",
              "        const charts = await google.colab.kernel.invokeFunction(\n",
              "            'suggestCharts', [key], {});\n",
              "      } catch (error) {\n",
              "        console.error('Error during call to suggestCharts:', error);\n",
              "      }\n",
              "      quickchartButtonEl.classList.remove('colab-df-spinner');\n",
              "      quickchartButtonEl.classList.add('colab-df-quickchart-complete');\n",
              "    }\n",
              "    (() => {\n",
              "      let quickchartButtonEl =\n",
              "        document.querySelector('#df-b3a42ade-e56c-4754-8e54-260e89ba2a61 button');\n",
              "      quickchartButtonEl.style.display =\n",
              "        google.colab.kernel.accessAllowed ? 'block' : 'none';\n",
              "    })();\n",
              "  </script>\n",
              "</div>\n",
              "\n",
              "  <div id=\"id_cce4dba1-bb0f-471d-9cd3-b6efb6ac7872\">\n",
              "    <style>\n",
              "      .colab-df-generate {\n",
              "        background-color: #E8F0FE;\n",
              "        border: none;\n",
              "        border-radius: 50%;\n",
              "        cursor: pointer;\n",
              "        display: none;\n",
              "        fill: #1967D2;\n",
              "        height: 32px;\n",
              "        padding: 0 0 0 0;\n",
              "        width: 32px;\n",
              "      }\n",
              "\n",
              "      .colab-df-generate:hover {\n",
              "        background-color: #E2EBFA;\n",
              "        box-shadow: 0px 1px 2px rgba(60, 64, 67, 0.3), 0px 1px 3px 1px rgba(60, 64, 67, 0.15);\n",
              "        fill: #174EA6;\n",
              "      }\n",
              "\n",
              "      [theme=dark] .colab-df-generate {\n",
              "        background-color: #3B4455;\n",
              "        fill: #D2E3FC;\n",
              "      }\n",
              "\n",
              "      [theme=dark] .colab-df-generate:hover {\n",
              "        background-color: #434B5C;\n",
              "        box-shadow: 0px 1px 3px 1px rgba(0, 0, 0, 0.15);\n",
              "        filter: drop-shadow(0px 1px 2px rgba(0, 0, 0, 0.3));\n",
              "        fill: #FFFFFF;\n",
              "      }\n",
              "    </style>\n",
              "    <button class=\"colab-df-generate\" onclick=\"generateWithVariable('data')\"\n",
              "            title=\"Generate code using this dataframe.\"\n",
              "            style=\"display:none;\">\n",
              "\n",
              "  <svg xmlns=\"http://www.w3.org/2000/svg\" height=\"24px\"viewBox=\"0 0 24 24\"\n",
              "       width=\"24px\">\n",
              "    <path d=\"M7,19H8.4L18.45,9,17,7.55,7,17.6ZM5,21V16.75L18.45,3.32a2,2,0,0,1,2.83,0l1.4,1.43a1.91,1.91,0,0,1,.58,1.4,1.91,1.91,0,0,1-.58,1.4L9.25,21ZM18.45,9,17,7.55Zm-12,3A5.31,5.31,0,0,0,4.9,8.1,5.31,5.31,0,0,0,1,6.5,5.31,5.31,0,0,0,4.9,4.9,5.31,5.31,0,0,0,6.5,1,5.31,5.31,0,0,0,8.1,4.9,5.31,5.31,0,0,0,12,6.5,5.46,5.46,0,0,0,6.5,12Z\"/>\n",
              "  </svg>\n",
              "    </button>\n",
              "    <script>\n",
              "      (() => {\n",
              "      const buttonEl =\n",
              "        document.querySelector('#id_cce4dba1-bb0f-471d-9cd3-b6efb6ac7872 button.colab-df-generate');\n",
              "      buttonEl.style.display =\n",
              "        google.colab.kernel.accessAllowed ? 'block' : 'none';\n",
              "\n",
              "      buttonEl.onclick = () => {\n",
              "        google.colab.notebook.generateWithVariable('data');\n",
              "      }\n",
              "      })();\n",
              "    </script>\n",
              "  </div>\n",
              "\n",
              "    </div>\n",
              "  </div>\n"
            ],
            "application/vnd.google.colaboratory.intrinsic+json": {
              "type": "dataframe",
              "variable_name": "data",
              "summary": "{\n  \"name\": \"data\",\n  \"rows\": 60349,\n  \"fields\": [\n    {\n      \"column\": \"Fuel Type Code\",\n      \"properties\": {\n        \"dtype\": \"category\",\n        \"num_unique_values\": 5,\n        \"samples\": [\n          \"E85\",\n          \"BD\",\n          \"ELEC\"\n        ],\n        \"semantic_type\": \"\",\n        \"description\": \"\"\n      }\n    },\n    {\n      \"column\": \"Station Name\",\n      \"properties\": {\n        \"dtype\": \"string\",\n        \"num_unique_values\": 54656,\n        \"samples\": [\n          \"Chicago Travel Plaza\",\n          \"HPI 3700 EV 4\",\n          \"One Metrocenter Apartments\"\n        ],\n        \"semantic_type\": \"\",\n        \"description\": \"\"\n      }\n    },\n    {\n      \"column\": \"Street Address\",\n      \"properties\": {\n        \"dtype\": \"string\",\n        \"num_unique_values\": 45346,\n        \"samples\": [\n          \"125 Davie St\",\n          \"1705 117e rue\",\n          \"8455 NW 53rd Terrace\"\n        ],\n        \"semantic_type\": \"\",\n        \"description\": \"\"\n      }\n    },\n    {\n      \"column\": \"Intersection Directions\",\n      \"properties\": {\n        \"dtype\": \"category\",\n        \"num_unique_values\": 3723,\n        \"samples\": [\n          \"Located in the municipal parking lot\",\n          \"Ste 125\",\n          \"Green Street and Highway 6\"\n        ],\n        \"semantic_type\": \"\",\n        \"description\": \"\"\n      }\n    },\n    {\n      \"column\": \"City\",\n      \"properties\": {\n        \"dtype\": \"category\",\n        \"num_unique_values\": 7657,\n        \"samples\": [\n          \"San Tan Valley\",\n          \"KOOTENAY BAY FERRY LANDING\",\n          \"Ruby\"\n        ],\n        \"semantic_type\": \"\",\n        \"description\": \"\"\n      }\n    },\n    {\n      \"column\": \"State\",\n      \"properties\": {\n        \"dtype\": \"category\",\n        \"num_unique_values\": 64,\n        \"samples\": [\n          \"QC\",\n          \"PE\",\n          \"AL\"\n        ],\n        \"semantic_type\": \"\",\n        \"description\": \"\"\n      }\n    },\n    {\n      \"column\": \"ZIP\",\n      \"properties\": {\n        \"dtype\": \"category\",\n        \"num_unique_values\": 16747,\n        \"samples\": [\n          \"71227\",\n          \"50327\",\n          \"89501\"\n        ],\n        \"semantic_type\": \"\",\n        \"description\": \"\"\n      }\n    },\n    {\n      \"column\": \"Status Code\",\n      \"properties\": {\n        \"dtype\": \"category\",\n        \"num_unique_values\": 3,\n        \"samples\": [\n          \"E\",\n          \"T\",\n          \"P\"\n        ],\n        \"semantic_type\": \"\",\n        \"description\": \"\"\n      }\n    },\n    {\n      \"column\": \"Groups With Access Code\",\n      \"properties\": {\n        \"dtype\": \"category\",\n        \"num_unique_values\": 26,\n        \"samples\": [\n          \"TEMPORARILY UNAVAILABLE (Private)\",\n          \"Private - Call ahead\",\n          \"Private\"\n        ],\n        \"semantic_type\": \"\",\n        \"description\": \"\"\n      }\n    },\n    {\n      \"column\": \"NG Fill Type Code\",\n      \"properties\": {\n        \"dtype\": \"category\",\n        \"num_unique_values\": 3,\n        \"samples\": [\n          \"B\",\n          \"Q\",\n          \"T\"\n        ],\n        \"semantic_type\": \"\",\n        \"description\": \"\"\n      }\n    },\n    {\n      \"column\": \"Geocode Status\",\n      \"properties\": {\n        \"dtype\": \"category\",\n        \"num_unique_values\": 7,\n        \"samples\": [\n          \"200-9\",\n          \"200-8\",\n          \"200-5\"\n        ],\n        \"semantic_type\": \"\",\n        \"description\": \"\"\n      }\n    },\n    {\n      \"column\": \"Latitude\",\n      \"properties\": {\n        \"dtype\": \"number\",\n        \"std\": 5.592541577577515,\n        \"min\": 18.365585,\n        \"max\": 64.852466,\n        \"num_unique_values\": 57650,\n        \"samples\": [\n          33.46839401,\n          46.823993,\n          40.221004\n        ],\n        \"semantic_type\": \"\",\n        \"description\": \"\"\n      }\n    },\n    {\n      \"column\": \"Longitude\",\n      \"properties\": {\n        \"dtype\": \"number\",\n        \"std\": 19.575071827962162,\n        \"min\": -159.788556,\n        \"max\": 0.0,\n        \"num_unique_values\": 57854,\n        \"samples\": [\n          -95.83731,\n          -96.85972,\n          -113.537353\n        ],\n        \"semantic_type\": \"\",\n        \"description\": \"\"\n      }\n    },\n    {\n      \"column\": \"ID\",\n      \"properties\": {\n        \"dtype\": \"number\",\n        \"std\": 51222,\n        \"min\": 17,\n        \"max\": 223866,\n        \"num_unique_values\": 60349,\n        \"samples\": [\n          123552,\n          49408,\n          198265\n        ],\n        \"semantic_type\": \"\",\n        \"description\": \"\"\n      }\n    },\n    {\n      \"column\": \"Owner Type Code\",\n      \"properties\": {\n        \"dtype\": \"category\",\n        \"num_unique_values\": 6,\n        \"samples\": [\n          \"T\",\n          \"P\",\n          \"J\"\n        ],\n        \"semantic_type\": \"\",\n        \"description\": \"\"\n      }\n    },\n    {\n      \"column\": \"Open Date\",\n      \"properties\": {\n        \"dtype\": \"object\",\n        \"num_unique_values\": 3584,\n        \"samples\": [\n          \"2018-04-28\",\n          \"2018-01-11\",\n          \"2012-09-18\"\n        ],\n        \"semantic_type\": \"\",\n        \"description\": \"\"\n      }\n    },\n    {\n      \"column\": \"Country\",\n      \"properties\": {\n        \"dtype\": \"category\",\n        \"num_unique_values\": 2,\n        \"samples\": [\n          \"CA\",\n          \"US\"\n        ],\n        \"semantic_type\": \"\",\n        \"description\": \"\"\n      }\n    },\n    {\n      \"column\": \"Access Code\",\n      \"properties\": {\n        \"dtype\": \"category\",\n        \"num_unique_values\": 2,\n        \"samples\": [\n          \"public\",\n          \"private\"\n        ],\n        \"semantic_type\": \"\",\n        \"description\": \"\"\n      }\n    },\n    {\n      \"column\": \"Facility Type\",\n      \"properties\": {\n        \"dtype\": \"category\",\n        \"num_unique_values\": 62,\n        \"samples\": [\n          \"CONVENTION_CENTER\",\n          \"MOTOR_POOL\"\n        ],\n        \"semantic_type\": \"\",\n        \"description\": \"\"\n      }\n    },\n    {\n      \"column\": \"Year\",\n      \"properties\": {\n        \"dtype\": \"number\",\n        \"std\": 4.087800936161766,\n        \"min\": 1974.0,\n        \"max\": 2021.0,\n        \"num_unique_values\": 42,\n        \"samples\": [\n          2006.0,\n          1995.0\n        ],\n        \"semantic_type\": \"\",\n        \"description\": \"\"\n      }\n    }\n  ]\n}"
            }
          },
          "metadata": {},
          "execution_count": 8
        }
      ],
      "source": [
        "# Load the data using load_data function\n",
        "# The dataframe shouw contain 60349 rows and 20 columns if loaded correctly\n",
        "\n",
        "data = load_data()\n",
        "data"
      ]
    },
    {
      "cell_type": "markdown",
      "id": "62a7f407-81ae-4514-8953-dd2c23841025",
      "metadata": {
        "id": "62a7f407-81ae-4514-8953-dd2c23841025"
      },
      "source": [
        "__Note:__ In the following functions, assume that df is similar to the dataframe loaded by `load_data()` but possibly contains a subset of its rows (e.g., filtered based on a condition __before__ the function call).\n",
        "\n",
        "Implement the data analysis steps to produce the data required for plotting and visualize the results in each function. Do not hardcode the values for plotting. All values must come from appropriate dataframe methods applied on the provided dataframe `df` and should be generalizable to the cases beyond the given examples."
      ]
    },
    {
      "cell_type": "markdown",
      "id": "8abeaa00-71af-43d5-b388-6f0249e9255f",
      "metadata": {
        "id": "8abeaa00-71af-43d5-b388-6f0249e9255f"
      },
      "source": [
        "# Function 1: `plot_pie_by_column(df, column, title)`\n",
        "\n",
        "This function receives a dataframe df (similar to the full dataframe but not necessarily the same), a column name and a title for the plot. It then counts the number of stations for each category in `df[column]` and produces a pie chart illustrating the distribution of these numbers.\n",
        "\n",
        "## Function definition\n",
        "Define the function below."
      ]
    },
    {
      "cell_type": "code",
      "execution_count": null,
      "id": "03309e0f-178b-4852-a685-aadf528e034c",
      "metadata": {
        "id": "03309e0f-178b-4852-a685-aadf528e034c"
      },
      "outputs": [],
      "source": [
        "# Define Function 1 below:\n",
        "def plot_pie_by_column(df, column, title):\n",
        "    counts = df[column].value_counts()\n",
        "    plt.figure(figsize=(8,8))\n",
        "    plt.title(title)\n",
        "    counts.plot.pie(autopct='%1.2f%%')\n",
        "    plt.ylabel('')\n",
        "    plt.show()"
      ]
    },
    {
      "cell_type": "markdown",
      "id": "f4e3368e-84ec-4d33-af5f-19fda6d3c90c",
      "metadata": {
        "id": "f4e3368e-84ec-4d33-af5f-19fda6d3c90c"
      },
      "source": [
        "## Plots based on Function 1\n",
        "\n",
        "Produce the following plots using `plot_pie_by_column` defined above by passing appropriate dataframes, columns and titles."
      ]
    },
    {
      "cell_type": "code",
      "execution_count": null,
      "id": "92871700-c449-4bde-9e25-182867147442",
      "metadata": {
        "id": "92871700-c449-4bde-9e25-182867147442"
      },
      "outputs": [],
      "source": [
        "# Fuel type distribution across all stations:\n",
        "plot_pie_by_column(df, 'Fuel Type Code', 'Fuel Type Distribution Across All Stations')\n"
      ]
    },
    {
      "cell_type": "code",
      "execution_count": null,
      "id": "3306ff0a-2900-4f43-9727-bfa65d63500b",
      "metadata": {
        "id": "3306ff0a-2900-4f43-9727-bfa65d63500b"
      },
      "outputs": [],
      "source": [
        "# Fuel type distribution across stations in Iowa:\n",
        "plot_pie_by_column(df[df['State'] == 'IA'], 'Fuel Type Code', 'Fuel Type Distribution in Iowa')\n",
        "\n"
      ]
    },
    {
      "cell_type": "code",
      "execution_count": null,
      "id": "e6fe5195-7d44-466f-ba94-e7c32cc03101",
      "metadata": {
        "id": "e6fe5195-7d44-466f-ba94-e7c32cc03101"
      },
      "outputs": [],
      "source": [
        "# Distribution of stations by access code (public or private):\n",
        "plot_pie_by_column(df[(df['Groups With Access Code'] == 'Private')|(df['Groups With Access Code'] == 'Public')], 'Groups With Access Code', 'Access Type Distribution')\n",
        "\n"
      ]
    },
    {
      "cell_type": "code",
      "execution_count": null,
      "id": "766114a3-e764-488e-84e3-d141025c9006",
      "metadata": {
        "id": "766114a3-e764-488e-84e3-d141025c9006"
      },
      "outputs": [],
      "source": []
    },
    {
      "cell_type": "markdown",
      "id": "26c3edec-4e27-409a-ab66-1b28b0404021",
      "metadata": {
        "id": "26c3edec-4e27-409a-ab66-1b28b0404021"
      },
      "source": [
        "# Function 2: `plot_station_counts(df, column, title, top_n = 10)`\n",
        "\n",
        "This function receives a dataframe df (similar to the full dataframe but not necessarily the same), a column name and a title for the plot. It processes the data as in `plot_pie_by_column`, but instead of producing a pie chart, produces a bar plot illustrating the actual counts. The optional parameter `top_n` determines the maximum number of categories to display. Note that if there are fewer than `top_n` categories in `df[column]`, your function should display up to that many categories.\n",
        "\n",
        "## Function definition\n",
        "Define the function below."
      ]
    },
    {
      "cell_type": "code",
      "execution_count": null,
      "id": "0dd04fd0-50e2-4b0f-b3cb-5289361f8752",
      "metadata": {
        "id": "0dd04fd0-50e2-4b0f-b3cb-5289361f8752"
      },
      "outputs": [],
      "source": [
        "# Define Function 2 below:\n",
        "def plot_station_counts(df, column, title, top_n = 10):\n",
        "    counts = df[column].value_counts().nlargest(top_n)\n",
        "    plt.figure(figsize=(10,8))\n",
        "    counts.plot(kind = 'bar')\n",
        "    plt.title(title)\n",
        "    plt.xlabel(column)\n",
        "    plt.ylabel('Number of Stations')\n",
        "    plt.show()"
      ]
    },
    {
      "cell_type": "markdown",
      "id": "130110c5-daff-4a6d-8f01-0a38888045ff",
      "metadata": {
        "id": "130110c5-daff-4a6d-8f01-0a38888045ff"
      },
      "source": [
        "## Plots based on Function 2\n",
        "\n",
        "Produce the following plots using `plot_station_counts` defined above by passing appropriate dataframes, columns and titles."
      ]
    },
    {
      "cell_type": "code",
      "execution_count": null,
      "id": "4563cdeb-bb7f-4f5a-8fb1-a4912c924498",
      "metadata": {
        "id": "4563cdeb-bb7f-4f5a-8fb1-a4912c924498"
      },
      "outputs": [],
      "source": [
        "# Total number of fuel stations by US states (excluding California):\n",
        "plot_station_counts(df[(df['State'] != 'CA')&(df['Country'] == 'US')], 'State', 'Total number of stations by US States')\n",
        "\n"
      ]
    },
    {
      "cell_type": "code",
      "execution_count": null,
      "id": "ae43ae71-3518-4060-9f92-7e603f7514ec",
      "metadata": {
        "id": "ae43ae71-3518-4060-9f92-7e603f7514ec"
      },
      "outputs": [],
      "source": [
        "# Number of E85 stations per state/province (across US and Canada):\n",
        "plot_station_counts(df[df['Fuel Type Code'] == 'E85'], 'State', 'Number of E85 stations by state/province')\n",
        "\n"
      ]
    },
    {
      "cell_type": "code",
      "execution_count": null,
      "id": "86e85a82-32a2-42e6-a6aa-3d2d81c9a5a0",
      "metadata": {
        "id": "86e85a82-32a2-42e6-a6aa-3d2d81c9a5a0"
      },
      "outputs": [],
      "source": [
        "# Total number of fuel stations for each city in Iowa:\n",
        "plot_station_counts(df[df['State'] == 'IA'], 'City', 'Total number of stations by city in Iowa')\n",
        "\n"
      ]
    },
    {
      "cell_type": "code",
      "execution_count": null,
      "id": "fcb33a1a-bc9f-4160-968d-86518ce95b2b",
      "metadata": {
        "id": "fcb33a1a-bc9f-4160-968d-86518ce95b2b"
      },
      "outputs": [],
      "source": [
        "# Number of fuel stations by facility type:\n",
        "plot_station_counts(df, 'Facility Type', 'Number of fuel stations by facility Type')\n",
        "\n"
      ]
    },
    {
      "cell_type": "code",
      "execution_count": null,
      "id": "d4baebdd-ed63-4239-ab6f-c1294181a1ed",
      "metadata": {
        "id": "d4baebdd-ed63-4239-ab6f-c1294181a1ed"
      },
      "outputs": [],
      "source": []
    },
    {
      "cell_type": "markdown",
      "id": "81564c7d-660c-42f1-9ef3-b102740772c4",
      "metadata": {
        "id": "81564c7d-660c-42f1-9ef3-b102740772c4"
      },
      "source": [
        "# Function 3: `plot_station_counts_per_year(df, title)`\n",
        "\n",
        "This function receives a dataframe `df` (similar to the full dataframe but not necessarily the same) and a title for the plot. It then counts the total number of stations opened in each year in the provided `df` and produces a line plot.\n",
        "\n",
        "## Function definition\n",
        "Define the function below."
      ]
    },
    {
      "cell_type": "code",
      "execution_count": null,
      "id": "c3858dd3-03f3-4592-a8db-39313cfdd798",
      "metadata": {
        "id": "c3858dd3-03f3-4592-a8db-39313cfdd798"
      },
      "outputs": [],
      "source": [
        "# Define Function 3 below:\n",
        "def plot_station_counts_per_year(df, title):\n",
        "    ..."
      ]
    },
    {
      "cell_type": "markdown",
      "id": "6b7b9ea0-54ed-4bc6-9771-b38b5ac8507c",
      "metadata": {
        "id": "6b7b9ea0-54ed-4bc6-9771-b38b5ac8507c"
      },
      "source": [
        "## Plots based on Function 3\n",
        "\n",
        "Produce the following plot using `plot_station_counts_per_year` defined above by passing an appropriate dataframe and a title."
      ]
    },
    {
      "cell_type": "code",
      "execution_count": null,
      "id": "2ba7da71-aa8c-4a1e-927a-76150b6ca448",
      "metadata": {
        "id": "2ba7da71-aa8c-4a1e-927a-76150b6ca448"
      },
      "outputs": [],
      "source": [
        "# Total number of new fuel stations (across all fuel stations):\n",
        "\n"
      ]
    },
    {
      "cell_type": "code",
      "execution_count": null,
      "id": "669cff7e-277c-40d4-862f-bff5fa1261b7",
      "metadata": {
        "id": "669cff7e-277c-40d4-862f-bff5fa1261b7"
      },
      "outputs": [],
      "source": []
    },
    {
      "cell_type": "markdown",
      "id": "dc4bb6b7-b697-4270-ad0a-b0b3f96ad964",
      "metadata": {
        "id": "dc4bb6b7-b697-4270-ad0a-b0b3f96ad964"
      },
      "source": [
        "# Function 4: `plot_station_counts_per_year_fuel_type(df, title, fuel_types)`\n",
        "\n",
        "This function is similar to `plot_station_counts_per_year` but instead of counting the total number of new stations per year, it counts the number of new stations per year for each fuel type given in the list `fuel_types`. It then produces a plot with a __separate line and legend__ for each fuel type.\n",
        "\n",
        "## Function definition\n",
        "Define the function below."
      ]
    },
    {
      "cell_type": "code",
      "execution_count": null,
      "id": "4924f76a-17e9-4725-b2ab-5acb3c6d5cda",
      "metadata": {
        "id": "4924f76a-17e9-4725-b2ab-5acb3c6d5cda"
      },
      "outputs": [],
      "source": [
        "# Define Function 4 below:\n",
        "def plot_station_counts_per_year_fuel_type(df, title, fuel_types):\n",
        "    ..."
      ]
    },
    {
      "cell_type": "markdown",
      "id": "8fc84875-4ff9-410b-9186-e964c7b06db0",
      "metadata": {
        "id": "8fc84875-4ff9-410b-9186-e964c7b06db0"
      },
      "source": [
        "## Plots based on Function 4\n",
        "\n",
        "Produce the following plots using `plot_station_counts_per_year_fuel_type` defined above by passing appropriate dataframes, titles and fuel types."
      ]
    },
    {
      "cell_type": "code",
      "execution_count": null,
      "id": "2c0c3081-52e0-48aa-91b3-e8271cc9f0e0",
      "metadata": {
        "id": "2c0c3081-52e0-48aa-91b3-e8271cc9f0e0"
      },
      "outputs": [],
      "source": [
        "# Number of new Electric & E85 fuel stations in Iowa:\n",
        "\n"
      ]
    },
    {
      "cell_type": "code",
      "execution_count": null,
      "id": "1ccd2aca-ef54-4f75-be0e-60dd0e668c56",
      "metadata": {
        "id": "1ccd2aca-ef54-4f75-be0e-60dd0e668c56"
      },
      "outputs": [],
      "source": [
        "# Number of new Electric, Biodiesel and E85 fuel stations in Minnesota:\n",
        "\n"
      ]
    },
    {
      "cell_type": "code",
      "execution_count": null,
      "id": "c5cfa2f5-fd40-48f9-9d13-ee319aaec937",
      "metadata": {
        "id": "c5cfa2f5-fd40-48f9-9d13-ee319aaec937"
      },
      "outputs": [],
      "source": []
    },
    {
      "cell_type": "markdown",
      "id": "0ddb674a-8fff-464c-abba-1b15ddb5d5dd",
      "metadata": {
        "id": "0ddb674a-8fff-464c-abba-1b15ddb5d5dd"
      },
      "source": [
        "# Function 5: `plot_map_state(df, state_to_highlight)`\n",
        "\n",
        "This function receives a dataframe `df` and a state/province code. It then produces a scatter plot of longitude and latitude illustrating the location of fuel stations on the map. Fuel stations are color coded by country (blue for the US and red for Canada). In addition, we wish to highlight a specific state/province using a different color (e.g., cyan).\n",
        "\n",
        "__Note__: For simplicity, you may assume that `df` is the full dataset in the following two functions. You may need to adjust the axis limits to appropriate longitude and magnitude values so that your function displays only the part of the map displayed in the provided plot outputs.  \n",
        "\n",
        "## Function definition\n",
        "Define the function below."
      ]
    },
    {
      "cell_type": "code",
      "execution_count": null,
      "id": "38ea2416-399e-4b37-b300-965d02b22f99",
      "metadata": {
        "id": "38ea2416-399e-4b37-b300-965d02b22f99"
      },
      "outputs": [],
      "source": [
        "# Define Function 5 below:\n",
        "def plot_map_state(df, state_to_highlight):\n",
        "    ..."
      ]
    },
    {
      "cell_type": "markdown",
      "id": "c51e3f38-ca62-4770-8028-687bc7d4a006",
      "metadata": {
        "id": "c51e3f38-ca62-4770-8028-687bc7d4a006"
      },
      "source": [
        "## Plots based on Function 5\n",
        "\n",
        "Produce the following plots using `plot_map_state` defined above by passing appropriate dataframes and states."
      ]
    },
    {
      "cell_type": "code",
      "execution_count": null,
      "id": "21bfa3f2-e9b8-45ec-ab6c-4da5fb4d60de",
      "metadata": {
        "id": "21bfa3f2-e9b8-45ec-ab6c-4da5fb4d60de"
      },
      "outputs": [],
      "source": [
        "# Location of fuel stations on the map (highlighting Iowa):\n",
        "\n"
      ]
    },
    {
      "cell_type": "code",
      "execution_count": null,
      "id": "502e8596-1f64-447c-84d9-2565118cdde8",
      "metadata": {
        "id": "502e8596-1f64-447c-84d9-2565118cdde8"
      },
      "outputs": [],
      "source": [
        "# Location of fuel stations on the map (highlighting Texas):\n",
        "\n"
      ]
    },
    {
      "cell_type": "code",
      "execution_count": null,
      "id": "7d688bf1-f765-4337-bd58-90dcd9e3ce40",
      "metadata": {
        "id": "7d688bf1-f765-4337-bd58-90dcd9e3ce40"
      },
      "outputs": [],
      "source": []
    },
    {
      "cell_type": "markdown",
      "id": "6102bdb9-75cc-4e62-a438-8341378ec30f",
      "metadata": {
        "id": "6102bdb9-75cc-4e62-a438-8341378ec30f"
      },
      "source": [
        "# Function 6: `plot_map_fueltypes(df, fueltype_colors)`\n",
        "\n",
        "This function is similar to `plot_map_state` but instead of coloring the stations by country/state, it receives a dictionary with some fuel types as keys and their colors as values, and colors the stations accordingly. The stations whose fuel type is not in the keys of `fueltype_colors` are colored by gray.\n",
        "\n",
        "## Function definition\n",
        "Define the function below."
      ]
    },
    {
      "cell_type": "code",
      "execution_count": null,
      "id": "a54b6106-fdd6-447d-94d4-63cd93f3b9af",
      "metadata": {
        "id": "a54b6106-fdd6-447d-94d4-63cd93f3b9af"
      },
      "outputs": [],
      "source": [
        "# Define Function 6 below:\n",
        "def plot_map_fueltypes(df, fueltype_colors):\n",
        "    ..."
      ]
    },
    {
      "cell_type": "markdown",
      "id": "a7d976c6-652b-4a3e-a970-d711718570dd",
      "metadata": {
        "id": "a7d976c6-652b-4a3e-a970-d711718570dd"
      },
      "source": [
        "## Plots based on Function 6\n",
        "\n",
        "Produce the following plots using `plot_map_fueltypes` defined above by passing appropriate dataframes and dictionaries for fuel type colors."
      ]
    },
    {
      "cell_type": "code",
      "execution_count": null,
      "id": "16365130-cb4e-4e18-b7eb-5cd2d4e1a68b",
      "metadata": {
        "id": "16365130-cb4e-4e18-b7eb-5cd2d4e1a68b"
      },
      "outputs": [],
      "source": [
        "# Location of fuel stations on the map (highlighting E85 (cyan), BD (red) and CNG (yellow)):\n",
        "\n"
      ]
    },
    {
      "cell_type": "code",
      "execution_count": null,
      "id": "526ba0a1-ade5-465d-9856-319a39681dae",
      "metadata": {
        "id": "526ba0a1-ade5-465d-9856-319a39681dae"
      },
      "outputs": [],
      "source": [
        "# Location of fuel stations on the map (highlighting Electric stations (cyan)):\n",
        "\n"
      ]
    }
  ],
  "metadata": {
    "kernelspec": {
      "display_name": "Python 3 (ipykernel)",
      "language": "python",
      "name": "python3"
    },
    "language_info": {
      "codemirror_mode": {
        "name": "ipython",
        "version": 3
      },
      "file_extension": ".py",
      "mimetype": "text/x-python",
      "name": "python",
      "nbconvert_exporter": "python",
      "pygments_lexer": "ipython3",
      "version": "3.11.7"
    },
    "colab": {
      "provenance": [],
      "include_colab_link": true
    }
  },
  "nbformat": 4,
  "nbformat_minor": 5
}